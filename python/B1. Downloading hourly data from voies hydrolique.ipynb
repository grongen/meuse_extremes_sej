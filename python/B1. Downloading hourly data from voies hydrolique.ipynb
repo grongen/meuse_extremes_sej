{
 "cells": [
  {
   "cell_type": "code",
   "execution_count": 1,
   "id": "63200bd7",
   "metadata": {},
   "outputs": [],
   "source": [
    "import requests\n",
    "import pandas as pd\n",
    "import numpy as np\n",
    "import matplotlib.pyplot as plt\n",
    "from tqdm.auto import tqdm\n",
    "from bs4 import BeautifulSoup\n",
    "from datetime import datetime, timedelta\n",
    "\n",
    "import geopandas as gpd\n",
    "from shapely.geometry import Point\n",
    "import calendar"
   ]
  },
  {
   "cell_type": "code",
   "execution_count": 2,
   "id": "5f8dcb33",
   "metadata": {},
   "outputs": [
    {
     "data": {
      "application/vnd.jupyter.widget-view+json": {
       "model_id": "b33ebbaeb96a434fbad6a428d050e616",
       "version_major": 2,
       "version_minor": 0
      },
      "text/plain": [
       "  0%|          | 0/78 [00:00<?, ?it/s]"
      ]
     },
     "metadata": {},
     "output_type": "display_data"
    }
   ],
   "source": [
    "codes = [\n",
    "    71321002, 29711002, 65261002, 55721002, 79781002, 69461002, 10461002, 94611002, 35611002,\n",
    "    78431002, 92321002, 69811002, 78911002, 62281002, 68031002, 95411002, 87021002, 23411002,\n",
    "    90711002, 92011002, 83411002, 59531002, 86611002, 81811002, 82211002, 57711002, 86221002,\n",
    "    59621002, 72441002, 71391002, 36431002, 29521002, 77111002, 85271002, 52911002, 67531002,\n",
    "    60211002, 69331002, 69911002, 91111002, 66211002, 94341002, 72281002, 72421002, 90811002,\n",
    "    59911002, 61221002, 92211002, 92231002, 92241002, 99141002, 23711002, 37781002, 95711002,\n",
    "    73191002, 58261002, 99261002, 78311002, 78631002, 74871002, 81661002, 78831002, 67321002,\n",
    "    96511002, 59211002, 66711002, 95611002, 97411002, 32821002, 90211002, 68321002, 19511002,\n",
    "    19531002, 77811002, 77841002, 78121002, 81631002, 79441002\n",
    "]\n",
    "\n",
    "url = 'http://voies-hydrauliques.wallonie.be/opencms//opencms/fr/hydro/Actuelle/crue/mesure.jsp?code={code}&pres=inv'\n",
    "\n",
    "stationdata = {}\n",
    "\n",
    "for code in tqdm(codes):\n",
    "    res = requests.get(url.format(code=code)).content\n",
    "    bsr = BeautifulSoup(res)\n",
    "    data = {'Code': code}\n",
    "    data.update({dt.text: dt.find_next_sibling().text.strip() for dt in bsr.find_all('dt')})\n",
    "    stationdata[data['Station']] = data"
   ]
  },
  {
   "cell_type": "code",
   "execution_count": 3,
   "id": "2e7696f1",
   "metadata": {},
   "outputs": [],
   "source": [
    "gdf = gpd.GeoDataFrame.from_dict(stationdata, orient='index')\n",
    "gdf.geometry = [Point(float(row[4].split(',')[0]), float(row[4].split(',')[1])) for row in gdf.itertuples()]\n",
    "gdf = gdf.set_crs('EPSG:31370')\n",
    "gdf.index = np.arange(len(gdf))\n",
    "gdf.columns = ['code', 'station', 'river', 'coordinates', 'area', 'geometry']\n",
    "gdf['area'] = gdf['area'].str.split().str[0].astype(float)\n",
    "gdf.drop('coordinates', axis=1, inplace=True)\n",
    "\n",
    "gdf = gdf.to_crs('EPSG:4326')\n",
    "gdf.to_file('../GIS/voies_hydrolique_locations.shp')"
   ]
  },
  {
   "cell_type": "code",
   "execution_count": 4,
   "id": "885d3877",
   "metadata": {},
   "outputs": [
    {
     "data": {
      "text/plain": [
       "<AxesSubplot:>"
      ]
     },
     "execution_count": 4,
     "metadata": {},
     "output_type": "execute_result"
    },
    {
     "data": {
      "image/png": "[encoded data removed]",
      "text/plain": [
       "<Figure size 432x288 with 1 Axes>"
      ]
     },
     "metadata": {
      "needs_background": "light"
     },
     "output_type": "display_data"
    }
   ],
   "source": [
    "gdf.plot()"
   ]
  },
  {
   "cell_type": "code",
   "execution_count": 5,
   "id": "ee3e0eeb",
   "metadata": {},
   "outputs": [
    {
     "data": {
      "text/html": [
       "<div>\n",
       "<style scoped>\n",
       "    .dataframe tbody tr th:only-of-type {\n",
       "        vertical-align: middle;\n",
       "    }\n",
       "\n",
       "    .dataframe tbody tr th {\n",
       "        vertical-align: top;\n",
       "    }\n",
       "\n",
       "    .dataframe thead th {\n",
       "        text-align: right;\n",
       "    }\n",
       "</style>\n",
       "<table border=\"1\" class=\"dataframe\">\n",
       "  <thead>\n",
       "    <tr style=\"text-align: right;\">\n",
       "      <th></th>\n",
       "      <th>code</th>\n",
       "      <th>station</th>\n",
       "      <th>river</th>\n",
       "      <th>area</th>\n",
       "      <th>geometry</th>\n",
       "    </tr>\n",
       "  </thead>\n",
       "  <tbody>\n",
       "    <tr>\n",
       "      <th>0</th>\n",
       "      <td>71321002</td>\n",
       "      <td>AMAY</td>\n",
       "      <td>MEUSE MOYENNE</td>\n",
       "      <td>16416.0</td>\n",
       "      <td>POINT (5.31777 50.53648)</td>\n",
       "    </tr>\n",
       "    <tr>\n",
       "      <th>16</th>\n",
       "      <td>87021002</td>\n",
       "      <td>CHOOZ</td>\n",
       "      <td>HAUTE MEUSE</td>\n",
       "      <td>10120.0</td>\n",
       "      <td>POINT (4.80653 50.09213)</td>\n",
       "    </tr>\n",
       "    <tr>\n",
       "      <th>68</th>\n",
       "      <td>32821002</td>\n",
       "      <td>TOURNAI</td>\n",
       "      <td>ESCAUT</td>\n",
       "      <td>4922.0</td>\n",
       "      <td>POINT (3.39078 50.60851)</td>\n",
       "    </tr>\n",
       "    <tr>\n",
       "      <th>55</th>\n",
       "      <td>58261002</td>\n",
       "      <td>SAUHEID</td>\n",
       "      <td>OURTHE</td>\n",
       "      <td>2904.0</td>\n",
       "      <td>POINT (5.59117 50.59662)</td>\n",
       "    </tr>\n",
       "    <tr>\n",
       "      <th>54</th>\n",
       "      <td>73191002</td>\n",
       "      <td>SALZINNES Ronet</td>\n",
       "      <td>BASSE SAMBRE</td>\n",
       "      <td>2842.0</td>\n",
       "      <td>POINT (4.83291 50.45995)</td>\n",
       "    </tr>\n",
       "    <tr>\n",
       "      <th>64</th>\n",
       "      <td>59211002</td>\n",
       "      <td>TABREUX</td>\n",
       "      <td>OURTHE</td>\n",
       "      <td>1607.0</td>\n",
       "      <td>POINT (5.53511 50.43797)</td>\n",
       "    </tr>\n",
       "    <tr>\n",
       "      <th>24</th>\n",
       "      <td>82211002</td>\n",
       "      <td>GENDRON</td>\n",
       "      <td>LESSE</td>\n",
       "      <td>1286.0</td>\n",
       "      <td>POINT (4.96281 50.21133)</td>\n",
       "    </tr>\n",
       "    <tr>\n",
       "      <th>41</th>\n",
       "      <td>94341002</td>\n",
       "      <td>MEMBRE Pont</td>\n",
       "      <td>SEMOIS</td>\n",
       "      <td>1226.0</td>\n",
       "      <td>POINT (4.90201 49.86377)</td>\n",
       "    </tr>\n",
       "    <tr>\n",
       "      <th>21</th>\n",
       "      <td>59531002</td>\n",
       "      <td>DURBUY</td>\n",
       "      <td>OURTHE</td>\n",
       "      <td>1215.0</td>\n",
       "      <td>POINT (5.45550 50.35269)</td>\n",
       "    </tr>\n",
       "    <tr>\n",
       "      <th>59</th>\n",
       "      <td>74871002</td>\n",
       "      <td>SOLRE</td>\n",
       "      <td>HAUTE SAMBRE</td>\n",
       "      <td>1188.0</td>\n",
       "      <td>POINT (4.14117 50.30919)</td>\n",
       "    </tr>\n",
       "    <tr>\n",
       "      <th>40</th>\n",
       "      <td>66211002</td>\n",
       "      <td>MARTINRIVE</td>\n",
       "      <td>AMBLEVE</td>\n",
       "      <td>1068.0</td>\n",
       "      <td>POINT (5.63712 50.47889)</td>\n",
       "    </tr>\n",
       "    <tr>\n",
       "      <th>7</th>\n",
       "      <td>94611002</td>\n",
       "      <td>BOUILLON</td>\n",
       "      <td>SEMOIS</td>\n",
       "      <td>1044.0</td>\n",
       "      <td>POINT (5.06370 49.79246)</td>\n",
       "    </tr>\n",
       "    <tr>\n",
       "      <th>27</th>\n",
       "      <td>59621002</td>\n",
       "      <td>HOTTON</td>\n",
       "      <td>OURTHE</td>\n",
       "      <td>940.0</td>\n",
       "      <td>POINT (5.43900 50.27093)</td>\n",
       "    </tr>\n",
       "    <tr>\n",
       "      <th>65</th>\n",
       "      <td>66711002</td>\n",
       "      <td>TARGNON</td>\n",
       "      <td>AMBLEVE</td>\n",
       "      <td>807.0</td>\n",
       "      <td>POINT (5.77598 50.41344)</td>\n",
       "    </tr>\n",
       "    <tr>\n",
       "      <th>15</th>\n",
       "      <td>95411002</td>\n",
       "      <td>CHINY</td>\n",
       "      <td>SEMOIS</td>\n",
       "      <td>738.0</td>\n",
       "      <td>POINT (5.35026 49.74522)</td>\n",
       "    </tr>\n",
       "    <tr>\n",
       "      <th>45</th>\n",
       "      <td>59911002</td>\n",
       "      <td>NISRAMONT</td>\n",
       "      <td>OURTHE</td>\n",
       "      <td>729.0</td>\n",
       "      <td>POINT (5.67323 50.13981)</td>\n",
       "    </tr>\n",
       "    <tr>\n",
       "      <th>13</th>\n",
       "      <td>62281002</td>\n",
       "      <td>CHAUDFONTAINE Pisc</td>\n",
       "      <td>VESDRE</td>\n",
       "      <td>683.0</td>\n",
       "      <td>POINT (5.65364 50.58946)</td>\n",
       "    </tr>\n",
       "    <tr>\n",
       "      <th>67</th>\n",
       "      <td>97411002</td>\n",
       "      <td>TORGNY</td>\n",
       "      <td>CHIERS</td>\n",
       "      <td>643.0</td>\n",
       "      <td>POINT (5.46612 49.50881)</td>\n",
       "    </tr>\n",
       "    <tr>\n",
       "      <th>69</th>\n",
       "      <td>90211002</td>\n",
       "      <td>TREIGNES</td>\n",
       "      <td>VIROIN</td>\n",
       "      <td>548.0</td>\n",
       "      <td>POINT (4.67597 50.08863)</td>\n",
       "    </tr>\n",
       "    <tr>\n",
       "      <th>62</th>\n",
       "      <td>67321002</td>\n",
       "      <td>STAVELOT</td>\n",
       "      <td>AMBLEVE</td>\n",
       "      <td>472.0</td>\n",
       "      <td>POINT (5.88484 50.37797)</td>\n",
       "    </tr>\n",
       "    <tr>\n",
       "      <th>66</th>\n",
       "      <td>95611002</td>\n",
       "      <td>TINTIGNY</td>\n",
       "      <td>SEMOIS</td>\n",
       "      <td>381.0</td>\n",
       "      <td>POINT (5.51813 49.68710)</td>\n",
       "    </tr>\n",
       "    <tr>\n",
       "      <th>46</th>\n",
       "      <td>61221002</td>\n",
       "      <td>ORTHO</td>\n",
       "      <td>OURTHE OCCIDENTALE</td>\n",
       "      <td>379.0</td>\n",
       "      <td>POINT (5.64646 50.10679)</td>\n",
       "    </tr>\n",
       "    <tr>\n",
       "      <th>50</th>\n",
       "      <td>99141002</td>\n",
       "      <td>REULAND</td>\n",
       "      <td>OUR</td>\n",
       "      <td>357.0</td>\n",
       "      <td>POINT (6.15180 50.18826)</td>\n",
       "    </tr>\n",
       "    <tr>\n",
       "      <th>43</th>\n",
       "      <td>72421002</td>\n",
       "      <td>MOHA</td>\n",
       "      <td>MEHAIGNE</td>\n",
       "      <td>343.0</td>\n",
       "      <td>POINT (5.18406 50.55089)</td>\n",
       "    </tr>\n",
       "    <tr>\n",
       "      <th>32</th>\n",
       "      <td>77111002</td>\n",
       "      <td>JAMIOULX</td>\n",
       "      <td>EAU D'HEURE</td>\n",
       "      <td>322.0</td>\n",
       "      <td>POINT (4.40445 50.35840)</td>\n",
       "    </tr>\n",
       "    <tr>\n",
       "      <th>36</th>\n",
       "      <td>60211002</td>\n",
       "      <td>MABOMPRE</td>\n",
       "      <td>OURTHE ORIENTALE</td>\n",
       "      <td>317.0</td>\n",
       "      <td>POINT (5.72174 50.13608)</td>\n",
       "    </tr>\n",
       "    <tr>\n",
       "      <th>6</th>\n",
       "      <td>10461002</td>\n",
       "      <td>BIERGES</td>\n",
       "      <td>DYLE</td>\n",
       "      <td>310.0</td>\n",
       "      <td>POINT (4.60613 50.71058)</td>\n",
       "    </tr>\n",
       "    <tr>\n",
       "      <th>28</th>\n",
       "      <td>72441002</td>\n",
       "      <td>HUCCORGNE</td>\n",
       "      <td>MEHAIGNE</td>\n",
       "      <td>305.0</td>\n",
       "      <td>POINT (5.16772 50.56751)</td>\n",
       "    </tr>\n",
       "    <tr>\n",
       "      <th>20</th>\n",
       "      <td>83411002</td>\n",
       "      <td>DAVERDISSE</td>\n",
       "      <td>LESSE</td>\n",
       "      <td>302.0</td>\n",
       "      <td>POINT (5.12834 50.04047)</td>\n",
       "    </tr>\n",
       "    <tr>\n",
       "      <th>33</th>\n",
       "      <td>85271002</td>\n",
       "      <td>JEMELLE</td>\n",
       "      <td>LHOMME</td>\n",
       "      <td>274.0</td>\n",
       "      <td>POINT (5.26178 50.15557)</td>\n",
       "    </tr>\n",
       "  </tbody>\n",
       "</table>\n",
       "</div>"
      ],
      "text/plain": [
       "        code             station               river     area  \\\n",
       "0   71321002                AMAY       MEUSE MOYENNE  16416.0   \n",
       "16  87021002               CHOOZ         HAUTE MEUSE  10120.0   \n",
       "68  32821002             TOURNAI              ESCAUT   4922.0   \n",
       "55  58261002             SAUHEID              OURTHE   2904.0   \n",
       "54  73191002     SALZINNES Ronet        BASSE SAMBRE   2842.0   \n",
       "64  59211002             TABREUX              OURTHE   1607.0   \n",
       "24  82211002             GENDRON               LESSE   1286.0   \n",
       "41  94341002         MEMBRE Pont              SEMOIS   1226.0   \n",
       "21  59531002              DURBUY              OURTHE   1215.0   \n",
       "59  74871002               SOLRE        HAUTE SAMBRE   1188.0   \n",
       "40  66211002          MARTINRIVE             AMBLEVE   1068.0   \n",
       "7   94611002            BOUILLON              SEMOIS   1044.0   \n",
       "27  59621002              HOTTON              OURTHE    940.0   \n",
       "65  66711002             TARGNON             AMBLEVE    807.0   \n",
       "15  95411002               CHINY              SEMOIS    738.0   \n",
       "45  59911002           NISRAMONT              OURTHE    729.0   \n",
       "13  62281002  CHAUDFONTAINE Pisc              VESDRE    683.0   \n",
       "67  97411002              TORGNY              CHIERS    643.0   \n",
       "69  90211002            TREIGNES              VIROIN    548.0   \n",
       "62  67321002            STAVELOT             AMBLEVE    472.0   \n",
       "66  95611002            TINTIGNY              SEMOIS    381.0   \n",
       "46  61221002               ORTHO  OURTHE OCCIDENTALE    379.0   \n",
       "50  99141002             REULAND                 OUR    357.0   \n",
       "43  72421002                MOHA            MEHAIGNE    343.0   \n",
       "32  77111002            JAMIOULX         EAU D'HEURE    322.0   \n",
       "36  60211002            MABOMPRE    OURTHE ORIENTALE    317.0   \n",
       "6   10461002             BIERGES                DYLE    310.0   \n",
       "28  72441002           HUCCORGNE            MEHAIGNE    305.0   \n",
       "20  83411002          DAVERDISSE               LESSE    302.0   \n",
       "33  85271002             JEMELLE              LHOMME    274.0   \n",
       "\n",
       "                    geometry  \n",
       "0   POINT (5.31777 50.53648)  \n",
       "16  POINT (4.80653 50.09213)  \n",
       "68  POINT (3.39078 50.60851)  \n",
       "55  POINT (5.59117 50.59662)  \n",
       "54  POINT (4.83291 50.45995)  \n",
       "64  POINT (5.53511 50.43797)  \n",
       "24  POINT (4.96281 50.21133)  \n",
       "41  POINT (4.90201 49.86377)  \n",
       "21  POINT (5.45550 50.35269)  \n",
       "59  POINT (4.14117 50.30919)  \n",
       "40  POINT (5.63712 50.47889)  \n",
       "7   POINT (5.06370 49.79246)  \n",
       "27  POINT (5.43900 50.27093)  \n",
       "65  POINT (5.77598 50.41344)  \n",
       "15  POINT (5.35026 49.74522)  \n",
       "45  POINT (5.67323 50.13981)  \n",
       "13  POINT (5.65364 50.58946)  \n",
       "67  POINT (5.46612 49.50881)  \n",
       "69  POINT (4.67597 50.08863)  \n",
       "62  POINT (5.88484 50.37797)  \n",
       "66  POINT (5.51813 49.68710)  \n",
       "46  POINT (5.64646 50.10679)  \n",
       "50  POINT (6.15180 50.18826)  \n",
       "43  POINT (5.18406 50.55089)  \n",
       "32  POINT (4.40445 50.35840)  \n",
       "36  POINT (5.72174 50.13608)  \n",
       "6   POINT (4.60613 50.71058)  \n",
       "28  POINT (5.16772 50.56751)  \n",
       "20  POINT (5.12834 50.04047)  \n",
       "33  POINT (5.26178 50.15557)  "
      ]
     },
     "execution_count": 5,
     "metadata": {},
     "output_type": "execute_result"
    }
   ],
   "source": [
    "gdf.sort_values(by='area', ascending=False).head(30)"
   ]
  },
  {
   "cell_type": "code",
   "execution_count": 6,
   "id": "001e6987",
   "metadata": {},
   "outputs": [],
   "source": [
    "stations = ['CHAUDFONTAINE','CHOOZ','GENDRON','HACCOURT','MARTINRIVE','MEMBRE-PONT','TABREUX','SAUHEID','SALZINNES Ronet','MOHA']\n",
    "codes = ['62281002','87021002','82211002','57711002','66211002','94341002','59211002','58261002','73191002','72421002']\n",
    "\n",
    "all_data = {}\n"
   ]
  },
  {
   "cell_type": "code",
   "execution_count": 7,
   "id": "20747016",
   "metadata": {},
   "outputs": [
    {
     "name": "stdout",
     "output_type": "stream",
     "text": [
      "Data is available for 1992-01-01 00:00:00-2022-06-30 00:00:00\n"
     ]
    },
    {
     "data": {
      "application/vnd.jupyter.widget-view+json": {
       "model_id": "f90b127d48444544afa9844747d99ae3",
       "version_major": 2,
       "version_minor": 0
      },
      "text/plain": [
       "CHAUDFONTAINE:   0%|          | 0/31 [00:00<?, ?it/s]"
      ]
     },
     "metadata": {},
     "output_type": "display_data"
    },
    {
     "name": "stdout",
     "output_type": "stream",
     "text": [
      "Data is available for 1990-01-01 00:00:00-2022-06-30 00:00:00\n"
     ]
    },
    {
     "data": {
      "application/vnd.jupyter.widget-view+json": {
       "model_id": "647fd381e8d347b285ef859defcb8007",
       "version_major": 2,
       "version_minor": 0
      },
      "text/plain": [
       "CHOOZ:   0%|          | 0/33 [00:00<?, ?it/s]"
      ]
     },
     "metadata": {},
     "output_type": "display_data"
    },
    {
     "name": "stdout",
     "output_type": "stream",
     "text": [
      "Data is available for 1968-01-01 00:00:00-2022-06-30 00:00:00\n"
     ]
    },
    {
     "data": {
      "application/vnd.jupyter.widget-view+json": {
       "model_id": "00be7d653842455492b172fe8a212394",
       "version_major": 2,
       "version_minor": 0
      },
      "text/plain": [
       "GENDRON:   0%|          | 0/55 [00:00<?, ?it/s]"
      ]
     },
     "metadata": {},
     "output_type": "display_data"
    },
    {
     "name": "stdout",
     "output_type": "stream",
     "text": [
      "Data is available for 1997-01-01 00:00:00-2022-06-30 00:00:00\n"
     ]
    },
    {
     "data": {
      "application/vnd.jupyter.widget-view+json": {
       "model_id": "863bdc2d651e4084bcb085a8e32a7961",
       "version_major": 2,
       "version_minor": 0
      },
      "text/plain": [
       "HACCOURT:   0%|          | 0/26 [00:00<?, ?it/s]"
      ]
     },
     "metadata": {},
     "output_type": "display_data"
    },
    {
     "name": "stdout",
     "output_type": "stream",
     "text": [
      "Data is available for 1974-01-01 00:00:00-2022-06-30 00:00:00\n"
     ]
    },
    {
     "data": {
      "application/vnd.jupyter.widget-view+json": {
       "model_id": "1f2b8d85c85f46f7bebe8c6607e88d04",
       "version_major": 2,
       "version_minor": 0
      },
      "text/plain": [
       "MARTINRIVE:   0%|          | 0/49 [00:00<?, ?it/s]"
      ]
     },
     "metadata": {},
     "output_type": "display_data"
    },
    {
     "name": "stdout",
     "output_type": "stream",
     "text": [
      "Data is available for 1968-01-01 00:00:00-2022-06-30 00:00:00\n"
     ]
    },
    {
     "data": {
      "application/vnd.jupyter.widget-view+json": {
       "model_id": "f6fccc76d7274b1cad49c2b7b126830d",
       "version_major": 2,
       "version_minor": 0
      },
      "text/plain": [
       "MEMBRE-PONT:   0%|          | 0/55 [00:00<?, ?it/s]"
      ]
     },
     "metadata": {},
     "output_type": "display_data"
    },
    {
     "name": "stdout",
     "output_type": "stream",
     "text": [
      "Data is available for 1988-01-01 00:00:00-2022-06-30 00:00:00\n"
     ]
    },
    {
     "data": {
      "application/vnd.jupyter.widget-view+json": {
       "model_id": "22071ba160854f32b6d5bed86c8ada5a",
       "version_major": 2,
       "version_minor": 0
      },
      "text/plain": [
       "TABREUX:   0%|          | 0/35 [00:00<?, ?it/s]"
      ]
     },
     "metadata": {},
     "output_type": "display_data"
    },
    {
     "name": "stdout",
     "output_type": "stream",
     "text": [
      "Data is available for 1987-01-01 00:00:00-2022-06-30 00:00:00\n"
     ]
    },
    {
     "data": {
      "application/vnd.jupyter.widget-view+json": {
       "model_id": "0a67157f951b4937a191c17f9bfe37cc",
       "version_major": 2,
       "version_minor": 0
      },
      "text/plain": [
       "SAUHEID:   0%|          | 0/36 [00:00<?, ?it/s]"
      ]
     },
     "metadata": {},
     "output_type": "display_data"
    },
    {
     "name": "stdout",
     "output_type": "stream",
     "text": [
      "Data is available for 2007-01-01 00:00:00-2022-06-30 00:00:00\n"
     ]
    },
    {
     "data": {
      "application/vnd.jupyter.widget-view+json": {
       "model_id": "cc2662b8505b4621a6479cef4010eef2",
       "version_major": 2,
       "version_minor": 0
      },
      "text/plain": [
       "SALZINNES Ronet:   0%|          | 0/16 [00:00<?, ?it/s]"
      ]
     },
     "metadata": {},
     "output_type": "display_data"
    },
    {
     "name": "stdout",
     "output_type": "stream",
     "text": [
      "Data is available for 1974-01-01 00:00:00-2022-06-30 00:00:00\n"
     ]
    },
    {
     "data": {
      "application/vnd.jupyter.widget-view+json": {
       "model_id": "d5de648de2294dafa56fef7f5e3e69b6",
       "version_major": 2,
       "version_minor": 0
      },
      "text/plain": [
       "MOHA:   0%|          | 0/49 [00:00<?, ?it/s]"
      ]
     },
     "metadata": {},
     "output_type": "display_data"
    }
   ],
   "source": [
    "for station, code in zip(stations, codes):\n",
    "    \n",
    "    if station in all_data:\n",
    "        continue\n",
    "#     print(f'Downloading data for station {station}')\n",
    "    \n",
    "    # Bepaal begin en eind tijdstip\n",
    "    url = f'http://voies-hydrauliques.wallonie.be/opencms/opencms/fr/hydro/Archive/annuaires/stathorairetab.do?code={code}&annee=2020'\n",
    "    html = requests.get(url).content\n",
    "    df_list = pd.read_html(html)\n",
    "    startendstr = df_list[10][2].values[0].split(':')[1].split('-')\n",
    "    \n",
    "    month, year = startendstr[0].split('/')\n",
    "    start = datetime(int(year), int(month), 1)\n",
    "    \n",
    "    month, year = startendstr[1].split('/')\n",
    "    end = datetime(int(year), int(month), calendar.monthrange(int(2010), int(month))[1])\n",
    "    \n",
    "    print(f'Data is available for {start}-{end}')\n",
    "    \n",
    "    years = np.arange(start.year, end.year+1, dtype=int)\n",
    "    data = []\n",
    "    for year in tqdm(years, desc=station):\n",
    "        for month in [12]:\n",
    "            startdate = datetime(year, month, 1)\n",
    "            if startdate > datetime.now():\n",
    "                continue\n",
    "            \n",
    "            url = f'http://voies-hydrauliques.wallonie.be/opencms/opencms/fr/hydro/Archive/annuaires/stathorairetab.do?code={code}&annee={int(startdate.year)}&mois={int(startdate.month)}'\n",
    "            html = requests.get(url).content\n",
    "            df_list = pd.read_html(html)\n",
    "            # Create dataframe with days as rows and months as columns\n",
    "            df = df_list[12].set_index('Unnamed: 0').iloc[:24]\n",
    "            df.index = df.index.astype(int)\n",
    "            discharges = df.unstack().dropna()\n",
    "            \n",
    "            td = timedelta(seconds=3600)\n",
    "            datetimes = [datetime(year, month, int(day), int(hour-1)) + td for (day, hour) in discharges.index.to_list()]\n",
    "\n",
    "            # Merge, only drop the NaN's after adding the dates\n",
    "            data.append(pd.Series(index=datetimes, data=discharges.to_numpy()).dropna())\n",
    "                \n",
    "    # Concatenate all years\n",
    "    station_data = pd.concat(data)\n",
    "    station_data.index.names = ['date']\n",
    "    \n",
    "    # Add to station overview\n",
    "    all_data[station] = station_data"
   ]
  },
  {
   "cell_type": "code",
   "execution_count": 16,
   "id": "de870de0",
   "metadata": {},
   "outputs": [],
   "source": [
    "savepath = '../Data/Metingen/voies_hydrolique_hourly.csv'\n",
    "already_available = pd.read_csv(savepath, sep=';', index_col=[0])"
   ]
  },
  {
   "cell_type": "code",
   "execution_count": 30,
   "id": "55d680c7",
   "metadata": {},
   "outputs": [],
   "source": [
    "total = pd.concat([pd.DataFrame(all_data), already_available], ignore_index=False)\n",
    "total.index = pd.to_datetime(total.index)\n",
    "total.sort_index(inplace=True)"
   ]
  },
  {
   "cell_type": "code",
   "execution_count": 34,
   "id": "37152478",
   "metadata": {},
   "outputs": [],
   "source": [
    "total.to_csv(savepath, sep=';')"
   ]
  },
  {
   "cell_type": "code",
   "execution_count": 13,
   "id": "421d285f",
   "metadata": {},
   "outputs": [
    {
     "data": {
      "text/plain": [
       "<AxesSubplot:xlabel='date'>"
      ]
     },
     "execution_count": 13,
     "metadata": {},
     "output_type": "execute_result"
    },
    {
     "data": {
      "image/png": "[encoded data removed]",
      "text/plain": [
       "<Figure size 432x288 with 1 Axes>"
      ]
     },
     "metadata": {
      "needs_background": "light"
     },
     "output_type": "display_data"
    }
   ],
   "source": [
    "pd.DataFrame(all_data).iloc[-40:-20].plot(alpha=0.5, lw=2)"
   ]
  },
  {
   "cell_type": "code",
   "execution_count": null,
   "id": "54f9bf08",
   "metadata": {},
   "outputs": [],
   "source": []
  }
 ],
 "metadata": {
  "kernelspec": {
   "display_name": "Python 3 (ipykernel)",
   "language": "python",
   "name": "python3"
  },
  "language_info": {
   "codemirror_mode": {
    "name": "ipython",
    "version": 3
   },
   "file_extension": ".py",
   "mimetype": "text/x-python",
   "name": "python",
   "nbconvert_exporter": "python",
   "pygments_lexer": "ipython3",
   "version": "3.9.13"
  },
  "toc": {
   "base_numbering": 1,
   "nav_menu": {},
   "number_sections": true,
   "sideBar": true,
   "skip_h1_title": false,
   "title_cell": "Table of Contents",
   "title_sidebar": "Contents",
   "toc_cell": false,
   "toc_position": {},
   "toc_section_display": true,
   "toc_window_display": false
  }
 },
 "nbformat": 4,
 "nbformat_minor": 5
}
